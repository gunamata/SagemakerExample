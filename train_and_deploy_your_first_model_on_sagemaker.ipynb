{
 "cells": [
  {
   "cell_type": "markdown",
   "metadata": {},
   "source": [
    "# Train and Deploy Your First Machine Learning Model on Amazon SageMaker"
   ]
  },
  {
   "cell_type": "markdown",
   "metadata": {},
   "source": [
    "## Create SageMaker session\n",
    "\n",
    "A SageMaker session needs to be initialized in order to start interacting the SageMaker service."
   ]
  },
  {
   "cell_type": "code",
   "execution_count": 1,
   "metadata": {},
   "outputs": [],
   "source": [
    "import boto3\n",
    "import re\n",
    "\n",
    "import os\n",
    "import numpy as np\n",
    "import pandas as pd\n",
    "import sagemaker as sage\n",
    "\n",
    "boto_session = boto3.Session(profile_name=\"packt-sagemaker\")\n",
    "session = sage.Session(boto_session=boto_session)"
   ]
  },
  {
   "cell_type": "markdown",
   "metadata": {},
   "source": [
    "## Upload the iris data for training \n",
    "\n",
    "Using the SageMaker session, which was initialized in the previous cell, the Iris data will be upload to S3. "
   ]
  },
  {
   "cell_type": "code",
   "execution_count": 2,
   "metadata": {},
   "outputs": [
    {
     "name": "stderr",
     "output_type": "stream",
     "text": [
      "INFO:sagemaker:Created S3 bucket: sagemaker-us-east-1-721683594006\n"
     ]
    }
   ],
   "source": [
    "local_data_directory = 'data'\n",
    "s3_prefix = 'packt-sagemaker-iris'\n",
    "\n",
    "data_location = session.upload_data(local_data_directory, key_prefix=s3_prefix)"
   ]
  },
  {
   "cell_type": "markdown",
   "metadata": {},
   "source": [
    "## Create an estimator and fit the model\n",
    "\n",
    "In order to use SageMaker to fit our algorithm, we'll create an `Estimator` that defines how to use the container to train. This includes the configuration we need to invoke SageMaker training:\n",
    "\n",
    "* The __container name__. This is constructed as in the shell commands above.\n",
    "* The __role__. As defined above.\n",
    "* The __instance count__ which is the number of machines to use for training.\n",
    "* The __instance type__ which is the type of machine to use for training.\n",
    "* The __output path__ determines where the model artifact will be written.\n",
    "* The __session__ is the SageMaker session object that we defined above.\n",
    "\n",
    "Then we use fit() on the estimator to train against the data that we uploaded above."
   ]
  },
  {
   "cell_type": "code",
   "execution_count": 3,
   "metadata": {},
   "outputs": [
    {
     "name": "stderr",
     "output_type": "stream",
     "text": [
      "WARNING:sagemaker:Couldn't call 'get_role' to get Role ARN from role name PacktSageMaker to get Role path.\n",
      "INFO:sagemaker:Creating training-job with name: first-ml-model-2018-09-16-16-53-09-638\n"
     ]
    },
    {
     "name": "stdout",
     "output_type": "stream",
     "text": [
      "2018-09-16 16:53:10 Starting - Starting the training job............\n",
      "2018-09-16 16:54:46 Downloading - Downloading input data\n",
      "2018-09-16 16:54:53 Training - Training in-progress.\n",
      "\u001b[31mStarting the training.\u001b[0m\n",
      "\u001b[31mTraining complete.\u001b[0m\n",
      "\n",
      "2018-09-16 16:55:20 Uploading - Uploading generated training model\n",
      "2018-09-16 16:55:25 Completed - Training job completed\n",
      "Billable seconds: 39\n"
     ]
    }
   ],
   "source": [
    "from sagemaker import get_execution_role\n",
    "\n",
    "account = session.boto_session.client('sts').get_caller_identity()['Account']\n",
    "region = session.boto_session.region_name\n",
    "image = '{}.dkr.ecr.{}.amazonaws.com/first-ml-model:latest'.format(account, region)\n",
    "\n",
    "role = get_execution_role(session)\n",
    "estimator = sage.estimator.Estimator(\n",
    "                        image,\n",
    "                        role, \n",
    "                        1, \n",
    "                        'ml.c4.2xlarge',\n",
    "                        output_path=\"s3://{}/output\".format(session.default_bucket()),\n",
    "                        sagemaker_session=session\n",
    ")\n",
    "\n",
    "estimator.fit(data_location)"
   ]
  },
  {
   "cell_type": "markdown",
   "metadata": {},
   "source": [
    "## Deploy the model\n",
    "\n",
    "Using the trained `Estimator`, a RESTful service will be initialized on Amazon SageMaker service."
   ]
  },
  {
   "cell_type": "code",
   "execution_count": 4,
   "metadata": {},
   "outputs": [
    {
     "name": "stderr",
     "output_type": "stream",
     "text": [
      "INFO:sagemaker:Creating model with name: first-ml-model-2018-09-16-17-21-57-001\n",
      "INFO:sagemaker:Creating endpoint with name first-ml-model-2018-09-16-16-53-09-638\n"
     ]
    },
    {
     "name": "stdout",
     "output_type": "stream",
     "text": [
      "--------------------------------------------------!"
     ]
    }
   ],
   "source": [
    "from sagemaker.predictor import json_serializer\n",
    "\n",
    "predictor = estimator.deploy(1, 'ml.m4.xlarge', serializer=json_serializer)"
   ]
  },
  {
   "cell_type": "markdown",
   "metadata": {},
   "source": [
    "## Sample some data and use it for a prediction"
   ]
  },
  {
   "cell_type": "code",
   "execution_count": 5,
   "metadata": {},
   "outputs": [
    {
     "data": {
      "text/plain": [
       "{'feat_1': [5.6, 6.0, 4.8, 6.1, 5.1, 6.3, 5.1, 5.6, 5.9, 4.8],\n",
       " 'feat_2': [2.5, 2.9, 3.4, 3.0, 3.8, 2.5, 3.8, 3.0, 3.2, 3.4],\n",
       " 'feat_3': [3.9, 4.5, 1.6, 4.6, 1.9, 5.0, 1.5, 4.5, 4.8, 1.9],\n",
       " 'feat_4': [1.1, 1.5, 0.2, 1.4, 0.4, 1.9, 0.3, 1.5, 1.8, 0.2]}"
      ]
     },
     "execution_count": 5,
     "metadata": {},
     "output_type": "execute_result"
    }
   ],
   "source": [
    "data_df = pd.read_csv(\"data/iris.csv\", header=None, names=[\"feat_1\", \"feat_2\", \"feat_3\", \"feat_4\"])\n",
    "\n",
    "sampled_df = data_df.sample(10)\n",
    "\n",
    "sampled_post_request_body = sampled_df.to_dict(orient='list')\n",
    "\n",
    "sampled_post_request_body"
   ]
  },
  {
   "cell_type": "code",
   "execution_count": 7,
   "metadata": {},
   "outputs": [
    {
     "name": "stdout",
     "output_type": "stream",
     "text": [
      "{\"predictions\": [\"versicolor\", \"versicolor\", \"setosa\", \"versicolor\", \"setosa\", \"virginica\", \"setosa\", \"versicolor\", \"versicolor\", \"setosa\"]}\n"
     ]
    }
   ],
   "source": [
    "print(predictor.predict(sampled_post_request_body).decode('utf-8'))"
   ]
  },
  {
   "cell_type": "markdown",
   "metadata": {},
   "source": [
    "## Delete the endpoint"
   ]
  },
  {
   "cell_type": "code",
   "execution_count": 8,
   "metadata": {},
   "outputs": [
    {
     "name": "stderr",
     "output_type": "stream",
     "text": [
      "INFO:sagemaker:Deleting endpoint with name: first-ml-model-2018-09-16-16-53-09-638\n"
     ]
    }
   ],
   "source": [
    "session.delete_endpoint(predictor.endpoint)"
   ]
  },
  {
   "cell_type": "code",
   "execution_count": null,
   "metadata": {},
   "outputs": [],
   "source": []
  }
 ],
 "metadata": {
  "kernelspec": {
   "display_name": "Python 3",
   "language": "python",
   "name": "python3"
  },
  "language_info": {
   "codemirror_mode": {
    "name": "ipython",
    "version": 3
   },
   "file_extension": ".py",
   "mimetype": "text/x-python",
   "name": "python",
   "nbconvert_exporter": "python",
   "pygments_lexer": "ipython3",
   "version": "3.6.5"
  }
 },
 "nbformat": 4,
 "nbformat_minor": 2
}
